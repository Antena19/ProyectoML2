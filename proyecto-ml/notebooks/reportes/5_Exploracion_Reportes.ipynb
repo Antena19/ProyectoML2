{
 "cells": [
  {
   "cell_type": "markdown",
   "metadata": {},
   "source": [
    "# 5. Exploración de Reportes y Visualizaciones\n",
    "\n",
    "Este notebook explora los reportes y visualizaciones generados por el pipeline de reportes, incluyendo:\n",
    "- Reportes de calidad de datos\n",
    "- Visualizaciones de features temporales\n",
    "- Reporte final consolidado\n",
    "- Análisis de parámetros de reportes\n"
   ]
  },
  {
   "cell_type": "code",
   "execution_count": 2,
   "metadata": {},
   "outputs": [
    {
     "data": {
      "text/html": [
       "<pre style=\"white-space:pre;overflow-x:auto;line-height:normal;font-family:Menlo,'DejaVu Sans Mono',consolas,'Courier New',monospace\"><span style=\"color: #7fbfbf; text-decoration-color: #7fbfbf\">[09/24/25 14:43:25] </span><span style=\"color: #000080; text-decoration-color: #000080\">INFO    </span> Kedro is sending anonymous usage data with the sole purpose of improving <a href=\"file://C:\\ProyectoML2\\proyecto-ml\\.venv\\Lib\\site-packages\\kedro_telemetry\\plugin.py\" target=\"_blank\"><span style=\"color: #7f7f7f; text-decoration-color: #7f7f7f\">plugin.py</span></a><span style=\"color: #7f7f7f; text-decoration-color: #7f7f7f\">:</span><a href=\"file://C:\\ProyectoML2\\proyecto-ml\\.venv\\Lib\\site-packages\\kedro_telemetry\\plugin.py#243\" target=\"_blank\"><span style=\"color: #7f7f7f; text-decoration-color: #7f7f7f\">243</span></a>\n",
       "<span style=\"color: #7fbfbf; text-decoration-color: #7fbfbf\">                    </span>         the product. No personal data or IP addresses are stored on our side. To <span style=\"color: #7f7f7f; text-decoration-color: #7f7f7f\">             </span>\n",
       "<span style=\"color: #7fbfbf; text-decoration-color: #7fbfbf\">                    </span>         opt out, set the `KEDRO_DISABLE_TELEMETRY` or `DO_NOT_TRACK` environment <span style=\"color: #7f7f7f; text-decoration-color: #7f7f7f\">             </span>\n",
       "<span style=\"color: #7fbfbf; text-decoration-color: #7fbfbf\">                    </span>         variables, or create a `.telemetry` file in the current working          <span style=\"color: #7f7f7f; text-decoration-color: #7f7f7f\">             </span>\n",
       "<span style=\"color: #7fbfbf; text-decoration-color: #7fbfbf\">                    </span>         directory with the contents `consent: false`. To hide this message,      <span style=\"color: #7f7f7f; text-decoration-color: #7f7f7f\">             </span>\n",
       "<span style=\"color: #7fbfbf; text-decoration-color: #7fbfbf\">                    </span>         explicitly grant or deny consent. Read more at                           <span style=\"color: #7f7f7f; text-decoration-color: #7f7f7f\">             </span>\n",
       "<span style=\"color: #7fbfbf; text-decoration-color: #7fbfbf\">                    </span>         <span style=\"color: #0000ff; text-decoration-color: #0000ff; text-decoration: underline\">https://docs.kedro.org/en/stable/configuration/telemetry.html</span>            <span style=\"color: #7f7f7f; text-decoration-color: #7f7f7f\">             </span>\n",
       "</pre>\n"
      ],
      "text/plain": [
       "\u001b[2;36m[09/24/25 14:43:25]\u001b[0m\u001b[2;36m \u001b[0m\u001b[34mINFO    \u001b[0m Kedro is sending anonymous usage data with the sole purpose of improving \u001b]8;id=837618;file://C:\\ProyectoML2\\proyecto-ml\\.venv\\Lib\\site-packages\\kedro_telemetry\\plugin.py\u001b\\\u001b[2mplugin.py\u001b[0m\u001b]8;;\u001b\\\u001b[2m:\u001b[0m\u001b]8;id=294961;file://C:\\ProyectoML2\\proyecto-ml\\.venv\\Lib\\site-packages\\kedro_telemetry\\plugin.py#243\u001b\\\u001b[2m243\u001b[0m\u001b]8;;\u001b\\\n",
       "\u001b[2;36m                    \u001b[0m         the product. No personal data or IP addresses are stored on our side. To \u001b[2m             \u001b[0m\n",
       "\u001b[2;36m                    \u001b[0m         opt out, set the `KEDRO_DISABLE_TELEMETRY` or `DO_NOT_TRACK` environment \u001b[2m             \u001b[0m\n",
       "\u001b[2;36m                    \u001b[0m         variables, or create a `.telemetry` file in the current working          \u001b[2m             \u001b[0m\n",
       "\u001b[2;36m                    \u001b[0m         directory with the contents `consent: false`. To hide this message,      \u001b[2m             \u001b[0m\n",
       "\u001b[2;36m                    \u001b[0m         explicitly grant or deny consent. Read more at                           \u001b[2m             \u001b[0m\n",
       "\u001b[2;36m                    \u001b[0m         \u001b[4;94mhttps://docs.kedro.org/en/stable/configuration/telemetry.html\u001b[0m            \u001b[2m             \u001b[0m\n"
      ]
     },
     "metadata": {},
     "output_type": "display_data"
    },
    {
     "name": "stdout",
     "output_type": "stream",
     "text": [
      "Kedro inicializado correctamente\n",
      "Parametros cargados: 10 secciones\n",
      "Catalogo disponible: Datasets cargados correctamente\n"
     ]
    }
   ],
   "source": [
    "# Inicializar Kedro\n",
    "import sys\n",
    "import os\n",
    "from pathlib import Path\n",
    "\n",
    "# Ruta absoluta al directorio del proyecto\n",
    "project_root = Path(r'C:\\ProyectoML2\\proyecto-ml')\n",
    "os.chdir(project_root)\n",
    "sys.path.append('src')\n",
    "\n",
    "from kedro.framework.session import KedroSession\n",
    "from kedro.framework.startup import bootstrap_project\n",
    "\n",
    "# Bootstrap del proyecto\n",
    "bootstrap_project('.')\n",
    "\n",
    "# Crear sesión\n",
    "session = KedroSession.create()\n",
    "context = session.load_context()\n",
    "catalog = context.catalog\n",
    "params = context.params\n",
    "\n",
    "print(\"Kedro inicializado correctamente\")\n",
    "print(f\"Parametros cargados: {len(params)} secciones\")\n",
    "print(\"Catalogo disponible: Datasets cargados correctamente\")\n"
   ]
  },
  {
   "cell_type": "code",
   "execution_count": 3,
   "metadata": {},
   "outputs": [
    {
     "data": {
      "text/html": [
       "<pre style=\"white-space:pre;overflow-x:auto;line-height:normal;font-family:Menlo,'DejaVu Sans Mono',consolas,'Courier New',monospace\"><span style=\"color: #7fbfbf; text-decoration-color: #7fbfbf\">[09/24/25 14:43:34] </span><span style=\"color: #000080; text-decoration-color: #000080\">INFO    </span> Loading data from <span style=\"color: #ff8700; text-decoration-color: #ff8700\">reporte_calidad_datos</span> <span style=\"font-weight: bold\">(</span>PickleDataset<span style=\"font-weight: bold\">)</span><span style=\"color: #808000; text-decoration-color: #808000\">...</span>        <a href=\"file://C:\\ProyectoML2\\proyecto-ml\\.venv\\Lib\\site-packages\\kedro\\io\\data_catalog.py\" target=\"_blank\"><span style=\"color: #7f7f7f; text-decoration-color: #7f7f7f\">data_catalog.py</span></a><span style=\"color: #7f7f7f; text-decoration-color: #7f7f7f\">:</span><a href=\"file://C:\\ProyectoML2\\proyecto-ml\\.venv\\Lib\\site-packages\\kedro\\io\\data_catalog.py#1046\" target=\"_blank\"><span style=\"color: #7f7f7f; text-decoration-color: #7f7f7f\">1046</span></a>\n",
       "</pre>\n"
      ],
      "text/plain": [
       "\u001b[2;36m[09/24/25 14:43:34]\u001b[0m\u001b[2;36m \u001b[0m\u001b[34mINFO    \u001b[0m Loading data from \u001b[38;5;208mreporte_calidad_datos\u001b[0m \u001b[1m(\u001b[0mPickleDataset\u001b[1m)\u001b[0m\u001b[33m...\u001b[0m        \u001b]8;id=843182;file://C:\\ProyectoML2\\proyecto-ml\\.venv\\Lib\\site-packages\\kedro\\io\\data_catalog.py\u001b\\\u001b[2mdata_catalog.py\u001b[0m\u001b]8;;\u001b\\\u001b[2m:\u001b[0m\u001b]8;id=935776;file://C:\\ProyectoML2\\proyecto-ml\\.venv\\Lib\\site-packages\\kedro\\io\\data_catalog.py#1046\u001b\\\u001b[2m1046\u001b[0m\u001b]8;;\u001b\\\n"
      ]
     },
     "metadata": {},
     "output_type": "display_data"
    },
    {
     "name": "stdout",
     "output_type": "stream",
     "text": [
      " Reporte de calidad cargado exitosamente\n",
      " Estructura del reporte: ['resumen_ejecutivo', 'metricas_detalladas', 'recomendaciones', 'estado_general']\n",
      "\n",
      " RESUMEN DEL REPORTE DE CALIDAD:\n",
      "  resumen_ejecutivo:\n",
      "    defunciones: {'total_registros': 1246214, 'completitud': 0, 'duplicados': np.int64(0), 'outliers': 0}\n",
      "  metricas_detalladas:\n",
      "    defunciones: {'total_registros': 1246214, 'total_columnas': 15, 'valores_nulos': np.int64(0), 'duplicados': np.int64(0), 'rango_fechas': {'inicio': '2014-01-01', 'fin': '2024-09-28'}, 'años_unicos': 11, 'regiones_unicas': 17}\n",
      "    nacimientos: {'total_registros': 9, 'total_columnas': 5, 'valores_nulos': np.int64(0), 'duplicados': np.int64(0), 'años_unicos': 9}\n",
      "    problemas_criticos: []\n",
      "    estado: APROBADO\n",
      "  recomendaciones: ['Defunciones: Completitud baja, revisar valores faltantes']\n",
      "  estado_general: REQUIERE_ATENCION\n"
     ]
    }
   ],
   "source": [
    "# Cargar reporte de calidad de datos\n",
    "try:\n",
    "    reporte_calidad = catalog.load('reporte_calidad_datos')\n",
    "    print(\" Reporte de calidad cargado exitosamente\")\n",
    "    print(f\" Estructura del reporte: {list(reporte_calidad.keys())}\")\n",
    "    \n",
    "    # Mostrar resumen del reporte\n",
    "    print(\"\\n RESUMEN DEL REPORTE DE CALIDAD:\")\n",
    "    for key, value in reporte_calidad.items():\n",
    "        if isinstance(value, dict):\n",
    "            print(f\"  {key}:\")\n",
    "            for subkey, subvalue in value.items():\n",
    "                print(f\"    {subkey}: {subvalue}\")\n",
    "        else:\n",
    "            print(f\"  {key}: {value}\")\n",
    "except Exception as e:\n",
    "    print(f\" Error cargando reporte de calidad: {e}\")\n",
    "    reporte_calidad = None\n"
   ]
  },
  {
   "cell_type": "code",
   "execution_count": 4,
   "metadata": {},
   "outputs": [
    {
     "data": {
      "text/html": [
       "<pre style=\"white-space:pre;overflow-x:auto;line-height:normal;font-family:Menlo,'DejaVu Sans Mono',consolas,'Courier New',monospace\"><span style=\"color: #7fbfbf; text-decoration-color: #7fbfbf\">[09/24/25 14:43:46] </span><span style=\"color: #000080; text-decoration-color: #000080\">INFO    </span> Loading data from <span style=\"color: #ff8700; text-decoration-color: #ff8700\">reporte_features_temporales</span> <span style=\"font-weight: bold\">(</span>PickleDataset<span style=\"font-weight: bold\">)</span><span style=\"color: #808000; text-decoration-color: #808000\">...</span>  <a href=\"file://C:\\ProyectoML2\\proyecto-ml\\.venv\\Lib\\site-packages\\kedro\\io\\data_catalog.py\" target=\"_blank\"><span style=\"color: #7f7f7f; text-decoration-color: #7f7f7f\">data_catalog.py</span></a><span style=\"color: #7f7f7f; text-decoration-color: #7f7f7f\">:</span><a href=\"file://C:\\ProyectoML2\\proyecto-ml\\.venv\\Lib\\site-packages\\kedro\\io\\data_catalog.py#1046\" target=\"_blank\"><span style=\"color: #7f7f7f; text-decoration-color: #7f7f7f\">1046</span></a>\n",
       "</pre>\n"
      ],
      "text/plain": [
       "\u001b[2;36m[09/24/25 14:43:46]\u001b[0m\u001b[2;36m \u001b[0m\u001b[34mINFO    \u001b[0m Loading data from \u001b[38;5;208mreporte_features_temporales\u001b[0m \u001b[1m(\u001b[0mPickleDataset\u001b[1m)\u001b[0m\u001b[33m...\u001b[0m  \u001b]8;id=431670;file://C:\\ProyectoML2\\proyecto-ml\\.venv\\Lib\\site-packages\\kedro\\io\\data_catalog.py\u001b\\\u001b[2mdata_catalog.py\u001b[0m\u001b]8;;\u001b\\\u001b[2m:\u001b[0m\u001b]8;id=468740;file://C:\\ProyectoML2\\proyecto-ml\\.venv\\Lib\\site-packages\\kedro\\io\\data_catalog.py#1046\u001b\\\u001b[2m1046\u001b[0m\u001b]8;;\u001b\\\n"
      ]
     },
     "metadata": {},
     "output_type": "display_data"
    },
    {
     "name": "stdout",
     "output_type": "stream",
     "text": [
      " Reporte de features temporales cargado exitosamente\n",
      " Estructura del reporte: ['resumen_features', 'analisis_ciclicos', 'distribucion_temporal', 'recomendaciones']\n",
      "\n",
      " RESUMEN DEL REPORTE DE FEATURES:\n",
      "  resumen_features:\n",
      "    total_features: 31\n",
      "    features_ciclicos: 8\n",
      "    features_especiales: 3\n",
      "    total_registros: 1246214\n",
      "  analisis_ciclicos:\n",
      "  distribucion_temporal:\n",
      "    años_cubiertos: 11\n",
      "    rango_años: 2014-2024\n",
      "  recomendaciones: ['Features cíclicos completos para modelado temporal']\n"
     ]
    }
   ],
   "source": [
    "# Cargar reporte de features temporales\n",
    "try:\n",
    "    reporte_features = catalog.load('reporte_features_temporales')\n",
    "    print(\" Reporte de features temporales cargado exitosamente\")\n",
    "    print(f\" Estructura del reporte: {list(reporte_features.keys())}\")\n",
    "    \n",
    "    # Mostrar resumen del reporte\n",
    "    print(\"\\n RESUMEN DEL REPORTE DE FEATURES:\")\n",
    "    for key, value in reporte_features.items():\n",
    "        if isinstance(value, dict):\n",
    "            print(f\"  {key}:\")\n",
    "            for subkey, subvalue in value.items():\n",
    "                print(f\"    {subkey}: {subvalue}\")\n",
    "        else:\n",
    "            print(f\"  {key}: {value}\")\n",
    "except Exception as e:\n",
    "    print(f\" Error cargando reporte de features: {e}\")\n",
    "    reporte_features = None\n"
   ]
  },
  {
   "cell_type": "code",
   "execution_count": null,
   "metadata": {},
   "outputs": [],
   "source": [
    "# Cargar visualizaciones de calidad\n",
    "try:\n",
    "    visualizaciones_calidad = catalog.load('visualizaciones_calidad')\n",
    "    print(\" Visualizaciones de calidad cargadas exitosamente\")\n",
    "    print(f\" Archivos generados: {list(visualizaciones_calidad.keys())}\")\n",
    "    \n",
    "    # Mostrar información de las visualizaciones\n",
    "    print(\"\\n INFORMACIÓN DE VISUALIZACIONES:\")\n",
    "    for nombre, info in visualizaciones_calidad.items():\n",
    "        print(f\"  {nombre}:\")\n",
    "        if isinstance(info, dict):\n",
    "            for key, value in info.items():\n",
    "                print(f\"    {key}: {value}\")\n",
    "        else:\n",
    "            print(f\"    Info: {info}\")\n",
    "except Exception as e:\n",
    "    print(f\" Error cargando visualizaciones de calidad: {e}\")\n",
    "    visualizaciones_calidad = None\n"
   ]
  },
  {
   "cell_type": "code",
   "execution_count": 5,
   "metadata": {},
   "outputs": [
    {
     "data": {
      "text/html": [
       "<pre style=\"white-space:pre;overflow-x:auto;line-height:normal;font-family:Menlo,'DejaVu Sans Mono',consolas,'Courier New',monospace\"><span style=\"color: #7fbfbf; text-decoration-color: #7fbfbf\">[09/24/25 14:44:06] </span><span style=\"color: #000080; text-decoration-color: #000080\">INFO    </span> Loading data from <span style=\"color: #ff8700; text-decoration-color: #ff8700\">visualizaciones_features</span> <span style=\"font-weight: bold\">(</span>PickleDataset<span style=\"font-weight: bold\">)</span><span style=\"color: #808000; text-decoration-color: #808000\">...</span>     <a href=\"file://C:\\ProyectoML2\\proyecto-ml\\.venv\\Lib\\site-packages\\kedro\\io\\data_catalog.py\" target=\"_blank\"><span style=\"color: #7f7f7f; text-decoration-color: #7f7f7f\">data_catalog.py</span></a><span style=\"color: #7f7f7f; text-decoration-color: #7f7f7f\">:</span><a href=\"file://C:\\ProyectoML2\\proyecto-ml\\.venv\\Lib\\site-packages\\kedro\\io\\data_catalog.py#1046\" target=\"_blank\"><span style=\"color: #7f7f7f; text-decoration-color: #7f7f7f\">1046</span></a>\n",
       "</pre>\n"
      ],
      "text/plain": [
       "\u001b[2;36m[09/24/25 14:44:06]\u001b[0m\u001b[2;36m \u001b[0m\u001b[34mINFO    \u001b[0m Loading data from \u001b[38;5;208mvisualizaciones_features\u001b[0m \u001b[1m(\u001b[0mPickleDataset\u001b[1m)\u001b[0m\u001b[33m...\u001b[0m     \u001b]8;id=144457;file://C:\\ProyectoML2\\proyecto-ml\\.venv\\Lib\\site-packages\\kedro\\io\\data_catalog.py\u001b\\\u001b[2mdata_catalog.py\u001b[0m\u001b]8;;\u001b\\\u001b[2m:\u001b[0m\u001b]8;id=490502;file://C:\\ProyectoML2\\proyecto-ml\\.venv\\Lib\\site-packages\\kedro\\io\\data_catalog.py#1046\u001b\\\u001b[2m1046\u001b[0m\u001b]8;;\u001b\\\n"
      ]
     },
     "metadata": {},
     "output_type": "display_data"
    },
    {
     "name": "stdout",
     "output_type": "stream",
     "text": [
      " Visualizaciones de features cargadas exitosamente\n",
      " Archivos generados: ['features_ciclicos', 'distribucion_temporal']\n",
      "\n",
      " INFORMACIÓN DE VISUALIZACIONES DE FEATURES:\n",
      "  features_ciclicos:\n",
      "    Info: data\\08_reporting\\features_ciclicos.png\n",
      "  distribucion_temporal:\n",
      "    Info: data\\08_reporting\\distribucion_temporal.png\n"
     ]
    }
   ],
   "source": [
    "# Cargar visualizaciones de features\n",
    "try:\n",
    "    visualizaciones_features = catalog.load('visualizaciones_features')\n",
    "    print(\" Visualizaciones de features cargadas exitosamente\")\n",
    "    print(f\" Archivos generados: {list(visualizaciones_features.keys())}\")\n",
    "    \n",
    "    # Mostrar información de las visualizaciones\n",
    "    print(\"\\n INFORMACIÓN DE VISUALIZACIONES DE FEATURES:\")\n",
    "    for nombre, info in visualizaciones_features.items():\n",
    "        print(f\"  {nombre}:\")\n",
    "        if isinstance(info, dict):\n",
    "            for key, value in info.items():\n",
    "                print(f\"    {key}: {value}\")\n",
    "        else:\n",
    "            print(f\"    Info: {info}\")\n",
    "except Exception as e:\n",
    "    print(f\" Error cargando visualizaciones de features: {e}\")\n",
    "    visualizaciones_features = None\n"
   ]
  },
  {
   "cell_type": "code",
   "execution_count": 6,
   "metadata": {},
   "outputs": [
    {
     "data": {
      "text/html": [
       "<pre style=\"white-space:pre;overflow-x:auto;line-height:normal;font-family:Menlo,'DejaVu Sans Mono',consolas,'Courier New',monospace\"><span style=\"color: #7fbfbf; text-decoration-color: #7fbfbf\">[09/24/25 14:44:16] </span><span style=\"color: #000080; text-decoration-color: #000080\">INFO    </span> Loading data from <span style=\"color: #ff8700; text-decoration-color: #ff8700\">reporte_final_consolidado</span> <span style=\"font-weight: bold\">(</span>PickleDataset<span style=\"font-weight: bold\">)</span><span style=\"color: #808000; text-decoration-color: #808000\">...</span>    <a href=\"file://C:\\ProyectoML2\\proyecto-ml\\.venv\\Lib\\site-packages\\kedro\\io\\data_catalog.py\" target=\"_blank\"><span style=\"color: #7f7f7f; text-decoration-color: #7f7f7f\">data_catalog.py</span></a><span style=\"color: #7f7f7f; text-decoration-color: #7f7f7f\">:</span><a href=\"file://C:\\ProyectoML2\\proyecto-ml\\.venv\\Lib\\site-packages\\kedro\\io\\data_catalog.py#1046\" target=\"_blank\"><span style=\"color: #7f7f7f; text-decoration-color: #7f7f7f\">1046</span></a>\n",
       "</pre>\n"
      ],
      "text/plain": [
       "\u001b[2;36m[09/24/25 14:44:16]\u001b[0m\u001b[2;36m \u001b[0m\u001b[34mINFO    \u001b[0m Loading data from \u001b[38;5;208mreporte_final_consolidado\u001b[0m \u001b[1m(\u001b[0mPickleDataset\u001b[1m)\u001b[0m\u001b[33m...\u001b[0m    \u001b]8;id=202155;file://C:\\ProyectoML2\\proyecto-ml\\.venv\\Lib\\site-packages\\kedro\\io\\data_catalog.py\u001b\\\u001b[2mdata_catalog.py\u001b[0m\u001b]8;;\u001b\\\u001b[2m:\u001b[0m\u001b]8;id=867463;file://C:\\ProyectoML2\\proyecto-ml\\.venv\\Lib\\site-packages\\kedro\\io\\data_catalog.py#1046\u001b\\\u001b[2m1046\u001b[0m\u001b]8;;\u001b\\\n"
      ]
     },
     "metadata": {},
     "output_type": "display_data"
    },
    {
     "name": "stdout",
     "output_type": "stream",
     "text": [
      " Reporte final consolidado cargado exitosamente\n",
      " Estructura del reporte: ['informacion_general', 'resumen_ejecutivo', 'reportes_detallados', 'archivos_generados', 'recomendaciones_generales']\n",
      "\n",
      " RESUMEN DEL REPORTE FINAL:\n",
      "  informacion_general:\n",
      "    fecha_generacion: 2025-09-24 14:41:49\n",
      "    version: 1.0\n",
      "    metodologia: CRISP-DM - Fase 3: Preparación de Datos\n",
      "  resumen_ejecutivo:\n",
      "    estado_calidad: REQUIERE_ATENCION\n",
      "    features_generados: 31\n",
      "    visualizaciones_generadas: 5\n",
      "  reportes_detallados:\n",
      "    calidad_datos: {'resumen_ejecutivo': {'defunciones': {'total_registros': 1246214, 'completitud': 0, 'duplicados': np.int64(0), 'outliers': 0}}, 'metricas_detalladas': {'defunciones': {'total_registros': 1246214, 'total_columnas': 15, 'valores_nulos': np.int64(0), 'duplicados': np.int64(0), 'rango_fechas': {'inicio': '2014-01-01', 'fin': '2024-09-28'}, 'años_unicos': 11, 'regiones_unicas': 17}, 'nacimientos': {'total_registros': 9, 'total_columnas': 5, 'valores_nulos': np.int64(0), 'duplicados': np.int64(0), 'años_unicos': 9}, 'problemas_criticos': [], 'estado': 'APROBADO'}, 'recomendaciones': ['Defunciones: Completitud baja, revisar valores faltantes'], 'estado_general': 'REQUIERE_ATENCION'}\n",
      "    features_temporales: {'resumen_features': {'total_features': 31, 'features_ciclicos': 8, 'features_especiales': 3, 'total_registros': 1246214}, 'analisis_ciclicos': {}, 'distribucion_temporal': {'años_cubiertos': 11, 'rango_años': '2014-2024'}, 'recomendaciones': ['Features cíclicos completos para modelado temporal']}\n",
      "  archivos_generados:\n",
      "    visualizaciones_calidad: {'completitud': 'data\\\\08_reporting\\\\completitud_datos.png', 'duplicados': 'data\\\\08_reporting\\\\duplicados_datos.png', 'valores_nulos': 'data\\\\08_reporting\\\\valores_nulos_datos.png'}\n",
      "    visualizaciones_features: {'features_ciclicos': 'data\\\\08_reporting\\\\features_ciclicos.png', 'distribucion_temporal': 'data\\\\08_reporting\\\\distribucion_temporal.png'}\n",
      "  recomendaciones_generales: ['Defunciones: Completitud baja, revisar valores faltantes', 'Features cíclicos completos para modelado temporal', 'Revisar calidad de datos antes del modelado']\n"
     ]
    }
   ],
   "source": [
    "# Cargar reporte final consolidado\n",
    "try:\n",
    "    reporte_final = catalog.load('reporte_final_consolidado')\n",
    "    print(\" Reporte final consolidado cargado exitosamente\")\n",
    "    print(f\" Estructura del reporte: {list(reporte_final.keys())}\")\n",
    "    \n",
    "    # Mostrar resumen del reporte final\n",
    "    print(\"\\n RESUMEN DEL REPORTE FINAL:\")\n",
    "    for key, value in reporte_final.items():\n",
    "        if isinstance(value, dict):\n",
    "            print(f\"  {key}:\")\n",
    "            for subkey, subvalue in value.items():\n",
    "                print(f\"    {subkey}: {subvalue}\")\n",
    "        else:\n",
    "            print(f\"  {key}: {value}\")\n",
    "except Exception as e:\n",
    "    print(f\" Error cargando reporte final: {e}\")\n",
    "    reporte_final = None\n"
   ]
  },
  {
   "cell_type": "code",
   "execution_count": 7,
   "metadata": {},
   "outputs": [
    {
     "name": "stdout",
     "output_type": "stream",
     "text": [
      " PARÁMETROS DE REPORTES UTILIZADOS\n",
      "\n",
      " Parámetros de reportes:\n",
      "  calidad: {'metricas_requeridas': ['completitud', 'duplicados', 'valores_nulos', 'consistencia_temporal'], 'umbrales_alerta': {'completitud_minima': 0.9, 'duplicados_maximo': 0.1, 'valores_nulos_maximo': 0.05}}\n",
      "  visualizaciones: {'formato_imagen': 'png', 'dpi': 300, 'estilo': 'default', 'paleta_colores': 'husl', 'tamaño_figura': {'ancho': 12, 'alto': 8}}\n",
      "\n",
      " Parámetros de validación:\n",
      "  checks_calidad: ['verificar_completitud', 'verificar_duplicados', 'verificar_rango_fechas', 'verificar_valores_nulos', 'verificar_consistencia_temporal']\n",
      "  umbrales_validacion: {'completitud_minima': 0.95, 'duplicados_maximo': 0.05, 'valores_nulos_maximo': 0.03}\n",
      "\n",
      " Parámetros de performance:\n",
      "  chunk_size: 10000\n",
      "  max_memory_usage: 2GB\n",
      "  parallel_processing: False\n",
      "  cache_intermediate_results: True\n"
     ]
    }
   ],
   "source": [
    "# Análisis de parámetros de reportes\n",
    "print(\" PARÁMETROS DE REPORTES UTILIZADOS\")\n",
    "print(\"\\n Parámetros de reportes:\")\n",
    "if 'reportes' in params:\n",
    "    for key, value in params['reportes'].items():\n",
    "        print(f\"  {key}: {value}\")\n",
    "\n",
    "print(\"\\n Parámetros de validación:\")\n",
    "if 'validacion' in params:\n",
    "    for key, value in params['validacion'].items():\n",
    "        print(f\"  {key}: {value}\")\n",
    "\n",
    "print(\"\\n Parámetros de performance:\")\n",
    "if 'performance' in params:\n",
    "    for key, value in params['performance'].items():\n",
    "        print(f\"  {key}: {value}\")\n"
   ]
  },
  {
   "cell_type": "code",
   "execution_count": 8,
   "metadata": {},
   "outputs": [
    {
     "name": "stdout",
     "output_type": "stream",
     "text": [
      " VERIFICACIÓN DE ARCHIVOS GENERADOS\n",
      "\n",
      " Directorio de reportes:\n",
      "  Archivos encontrados: 11\n",
      "    .gitkeep: 0 bytes\n",
      "    completitud_datos.png: 91064 bytes\n",
      "    distribucion_temporal.png: 138066 bytes\n",
      "    duplicados_datos.png: 92510 bytes\n",
      "    features_ciclicos.png: 264991 bytes\n",
      "    reporte_calidad_datos.pkl: 692 bytes\n",
      "    reporte_features_temporales.pkl: 298 bytes\n",
      "    reporte_final_consolidado.pkl: 1752 bytes\n",
      "    valores_nulos_datos.png: 90219 bytes\n",
      "    visualizaciones_calidad.pkl: 186 bytes\n",
      "    visualizaciones_features.pkl: 148 bytes\n",
      "\n",
      " Directorio de datos intermedios:\n",
      "  Archivos encontrados: 17\n",
      "    .gitkeep: 0 bytes\n",
      "    dataset_defunciones_indexado.csv: 244106628 bytes\n",
      "    dataset_extendido_con_edad.csv: 2550 bytes\n",
      "    dataset_extendido_indexado.csv: 12093 bytes\n",
      "    dataset_modelado_defunciones.csv: 232294698 bytes\n",
      "    dataset_modelado_defunciones_normalizado.csv: 380975831 bytes\n",
      "    dataset_modelado_indexado.csv: 199826029 bytes\n",
      "    dataset_tendencias_indexado.csv: 18393 bytes\n",
      "    dataset_tendencias_minmax.csv: 28154 bytes\n",
      "    dataset_tendencias_normalizado.csv: 29632 bytes\n",
      "    dataset_tendencias_robust.csv: 29419 bytes\n",
      "    dataset_tendencias_temporales.csv: 18393 bytes\n",
      "    dataset_unificado_indexado.csv: 5261 bytes\n",
      "    dataset_unificado_temporal.csv: 4533 bytes\n",
      "    defunciones_limpias.csv: 171479630 bytes\n",
      "    mapeos_codificacion.json: 1760 bytes\n",
      "    scalers_normalizacion.pkl: 5950 bytes\n"
     ]
    }
   ],
   "source": [
    "# Verificar archivos de visualizaciones generados\n",
    "import os\n",
    "\n",
    "print(\" VERIFICACIÓN DE ARCHIVOS GENERADOS\")\n",
    "print(\"\\n Directorio de reportes:\")\n",
    "directorio_reportes = \"data/08_reporting\"\n",
    "if os.path.exists(directorio_reportes):\n",
    "    archivos = os.listdir(directorio_reportes)\n",
    "    print(f\"  Archivos encontrados: {len(archivos)}\")\n",
    "    for archivo in archivos:\n",
    "        ruta_completa = os.path.join(directorio_reportes, archivo)\n",
    "        tamaño = os.path.getsize(ruta_completa)\n",
    "        print(f\"    {archivo}: {tamaño} bytes\")\n",
    "else:\n",
    "    print(f\"   Directorio {directorio_reportes} no existe\")\n",
    "\n",
    "print(\"\\n Directorio de datos intermedios:\")\n",
    "directorio_intermedios = \"data/02_intermediate\"\n",
    "if os.path.exists(directorio_intermedios):\n",
    "    archivos = os.listdir(directorio_intermedios)\n",
    "    print(f\"  Archivos encontrados: {len(archivos)}\")\n",
    "    for archivo in archivos:\n",
    "        ruta_completa = os.path.join(directorio_intermedios, archivo)\n",
    "        tamaño = os.path.getsize(ruta_completa)\n",
    "        print(f\"    {archivo}: {tamaño} bytes\")\n",
    "else:\n",
    "    print(f\"   Directorio {directorio_intermedios} no existe\")\n"
   ]
  },
  {
   "cell_type": "code",
   "execution_count": 10,
   "metadata": {},
   "outputs": [
    {
     "name": "stdout",
     "output_type": "stream",
     "text": [
      "RESUMEN FINAL DE REPORTES Y VISUALIZACIONES\n",
      "\n",
      "Reportes generados:\n"
     ]
    },
    {
     "data": {
      "text/html": [
       "<pre style=\"white-space:pre;overflow-x:auto;line-height:normal;font-family:Menlo,'DejaVu Sans Mono',consolas,'Courier New',monospace\"><span style=\"color: #7fbfbf; text-decoration-color: #7fbfbf\">[09/24/25 14:45:59] </span><span style=\"color: #000080; text-decoration-color: #000080\">INFO    </span> Loading data from <span style=\"color: #ff8700; text-decoration-color: #ff8700\">reporte_calidad_datos</span> <span style=\"font-weight: bold\">(</span>PickleDataset<span style=\"font-weight: bold\">)</span><span style=\"color: #808000; text-decoration-color: #808000\">...</span>        <a href=\"file://C:\\ProyectoML2\\proyecto-ml\\.venv\\Lib\\site-packages\\kedro\\io\\data_catalog.py\" target=\"_blank\"><span style=\"color: #7f7f7f; text-decoration-color: #7f7f7f\">data_catalog.py</span></a><span style=\"color: #7f7f7f; text-decoration-color: #7f7f7f\">:</span><a href=\"file://C:\\ProyectoML2\\proyecto-ml\\.venv\\Lib\\site-packages\\kedro\\io\\data_catalog.py#1046\" target=\"_blank\"><span style=\"color: #7f7f7f; text-decoration-color: #7f7f7f\">1046</span></a>\n",
       "</pre>\n"
      ],
      "text/plain": [
       "\u001b[2;36m[09/24/25 14:45:59]\u001b[0m\u001b[2;36m \u001b[0m\u001b[34mINFO    \u001b[0m Loading data from \u001b[38;5;208mreporte_calidad_datos\u001b[0m \u001b[1m(\u001b[0mPickleDataset\u001b[1m)\u001b[0m\u001b[33m...\u001b[0m        \u001b]8;id=142743;file://C:\\ProyectoML2\\proyecto-ml\\.venv\\Lib\\site-packages\\kedro\\io\\data_catalog.py\u001b\\\u001b[2mdata_catalog.py\u001b[0m\u001b]8;;\u001b\\\u001b[2m:\u001b[0m\u001b]8;id=147839;file://C:\\ProyectoML2\\proyecto-ml\\.venv\\Lib\\site-packages\\kedro\\io\\data_catalog.py#1046\u001b\\\u001b[2m1046\u001b[0m\u001b]8;;\u001b\\\n"
      ]
     },
     "metadata": {},
     "output_type": "display_data"
    },
    {
     "name": "stdout",
     "output_type": "stream",
     "text": [
      "  Reporte de calidad: OK\n"
     ]
    },
    {
     "data": {
      "text/html": [
       "<pre style=\"white-space:pre;overflow-x:auto;line-height:normal;font-family:Menlo,'DejaVu Sans Mono',consolas,'Courier New',monospace\"><span style=\"color: #7fbfbf; text-decoration-color: #7fbfbf\">                    </span><span style=\"color: #000080; text-decoration-color: #000080\">INFO    </span> Loading data from <span style=\"color: #ff8700; text-decoration-color: #ff8700\">reporte_features_temporales</span> <span style=\"font-weight: bold\">(</span>PickleDataset<span style=\"font-weight: bold\">)</span><span style=\"color: #808000; text-decoration-color: #808000\">...</span>  <a href=\"file://C:\\ProyectoML2\\proyecto-ml\\.venv\\Lib\\site-packages\\kedro\\io\\data_catalog.py\" target=\"_blank\"><span style=\"color: #7f7f7f; text-decoration-color: #7f7f7f\">data_catalog.py</span></a><span style=\"color: #7f7f7f; text-decoration-color: #7f7f7f\">:</span><a href=\"file://C:\\ProyectoML2\\proyecto-ml\\.venv\\Lib\\site-packages\\kedro\\io\\data_catalog.py#1046\" target=\"_blank\"><span style=\"color: #7f7f7f; text-decoration-color: #7f7f7f\">1046</span></a>\n",
       "</pre>\n"
      ],
      "text/plain": [
       "\u001b[2;36m                   \u001b[0m\u001b[2;36m \u001b[0m\u001b[34mINFO    \u001b[0m Loading data from \u001b[38;5;208mreporte_features_temporales\u001b[0m \u001b[1m(\u001b[0mPickleDataset\u001b[1m)\u001b[0m\u001b[33m...\u001b[0m  \u001b]8;id=570964;file://C:\\ProyectoML2\\proyecto-ml\\.venv\\Lib\\site-packages\\kedro\\io\\data_catalog.py\u001b\\\u001b[2mdata_catalog.py\u001b[0m\u001b]8;;\u001b\\\u001b[2m:\u001b[0m\u001b]8;id=381474;file://C:\\ProyectoML2\\proyecto-ml\\.venv\\Lib\\site-packages\\kedro\\io\\data_catalog.py#1046\u001b\\\u001b[2m1046\u001b[0m\u001b]8;;\u001b\\\n"
      ]
     },
     "metadata": {},
     "output_type": "display_data"
    },
    {
     "name": "stdout",
     "output_type": "stream",
     "text": [
      "  Reporte de features: OK\n"
     ]
    },
    {
     "data": {
      "text/html": [
       "<pre style=\"white-space:pre;overflow-x:auto;line-height:normal;font-family:Menlo,'DejaVu Sans Mono',consolas,'Courier New',monospace\"><span style=\"color: #7fbfbf; text-decoration-color: #7fbfbf\">                    </span><span style=\"color: #000080; text-decoration-color: #000080\">INFO    </span> Loading data from <span style=\"color: #ff8700; text-decoration-color: #ff8700\">reporte_final_consolidado</span> <span style=\"font-weight: bold\">(</span>PickleDataset<span style=\"font-weight: bold\">)</span><span style=\"color: #808000; text-decoration-color: #808000\">...</span>    <a href=\"file://C:\\ProyectoML2\\proyecto-ml\\.venv\\Lib\\site-packages\\kedro\\io\\data_catalog.py\" target=\"_blank\"><span style=\"color: #7f7f7f; text-decoration-color: #7f7f7f\">data_catalog.py</span></a><span style=\"color: #7f7f7f; text-decoration-color: #7f7f7f\">:</span><a href=\"file://C:\\ProyectoML2\\proyecto-ml\\.venv\\Lib\\site-packages\\kedro\\io\\data_catalog.py#1046\" target=\"_blank\"><span style=\"color: #7f7f7f; text-decoration-color: #7f7f7f\">1046</span></a>\n",
       "</pre>\n"
      ],
      "text/plain": [
       "\u001b[2;36m                   \u001b[0m\u001b[2;36m \u001b[0m\u001b[34mINFO    \u001b[0m Loading data from \u001b[38;5;208mreporte_final_consolidado\u001b[0m \u001b[1m(\u001b[0mPickleDataset\u001b[1m)\u001b[0m\u001b[33m...\u001b[0m    \u001b]8;id=879978;file://C:\\ProyectoML2\\proyecto-ml\\.venv\\Lib\\site-packages\\kedro\\io\\data_catalog.py\u001b\\\u001b[2mdata_catalog.py\u001b[0m\u001b]8;;\u001b\\\u001b[2m:\u001b[0m\u001b]8;id=777002;file://C:\\ProyectoML2\\proyecto-ml\\.venv\\Lib\\site-packages\\kedro\\io\\data_catalog.py#1046\u001b\\\u001b[2m1046\u001b[0m\u001b]8;;\u001b\\\n"
      ]
     },
     "metadata": {},
     "output_type": "display_data"
    },
    {
     "name": "stdout",
     "output_type": "stream",
     "text": [
      "  Reporte final: OK\n",
      "\n",
      "Visualizaciones generadas:\n"
     ]
    },
    {
     "data": {
      "text/html": [
       "<pre style=\"white-space:pre;overflow-x:auto;line-height:normal;font-family:Menlo,'DejaVu Sans Mono',consolas,'Courier New',monospace\"><span style=\"color: #7fbfbf; text-decoration-color: #7fbfbf\">                    </span><span style=\"color: #000080; text-decoration-color: #000080\">INFO    </span> Loading data from <span style=\"color: #ff8700; text-decoration-color: #ff8700\">visualizaciones_calidad</span> <span style=\"font-weight: bold\">(</span>PickleDataset<span style=\"font-weight: bold\">)</span><span style=\"color: #808000; text-decoration-color: #808000\">...</span>      <a href=\"file://C:\\ProyectoML2\\proyecto-ml\\.venv\\Lib\\site-packages\\kedro\\io\\data_catalog.py\" target=\"_blank\"><span style=\"color: #7f7f7f; text-decoration-color: #7f7f7f\">data_catalog.py</span></a><span style=\"color: #7f7f7f; text-decoration-color: #7f7f7f\">:</span><a href=\"file://C:\\ProyectoML2\\proyecto-ml\\.venv\\Lib\\site-packages\\kedro\\io\\data_catalog.py#1046\" target=\"_blank\"><span style=\"color: #7f7f7f; text-decoration-color: #7f7f7f\">1046</span></a>\n",
       "</pre>\n"
      ],
      "text/plain": [
       "\u001b[2;36m                   \u001b[0m\u001b[2;36m \u001b[0m\u001b[34mINFO    \u001b[0m Loading data from \u001b[38;5;208mvisualizaciones_calidad\u001b[0m \u001b[1m(\u001b[0mPickleDataset\u001b[1m)\u001b[0m\u001b[33m...\u001b[0m      \u001b]8;id=611804;file://C:\\ProyectoML2\\proyecto-ml\\.venv\\Lib\\site-packages\\kedro\\io\\data_catalog.py\u001b\\\u001b[2mdata_catalog.py\u001b[0m\u001b]8;;\u001b\\\u001b[2m:\u001b[0m\u001b]8;id=593348;file://C:\\ProyectoML2\\proyecto-ml\\.venv\\Lib\\site-packages\\kedro\\io\\data_catalog.py#1046\u001b\\\u001b[2m1046\u001b[0m\u001b]8;;\u001b\\\n"
      ]
     },
     "metadata": {},
     "output_type": "display_data"
    },
    {
     "name": "stdout",
     "output_type": "stream",
     "text": [
      "  Visualizaciones de calidad: 3 archivos\n"
     ]
    },
    {
     "data": {
      "text/html": [
       "<pre style=\"white-space:pre;overflow-x:auto;line-height:normal;font-family:Menlo,'DejaVu Sans Mono',consolas,'Courier New',monospace\"><span style=\"color: #7fbfbf; text-decoration-color: #7fbfbf\">                    </span><span style=\"color: #000080; text-decoration-color: #000080\">INFO    </span> Loading data from <span style=\"color: #ff8700; text-decoration-color: #ff8700\">visualizaciones_features</span> <span style=\"font-weight: bold\">(</span>PickleDataset<span style=\"font-weight: bold\">)</span><span style=\"color: #808000; text-decoration-color: #808000\">...</span>     <a href=\"file://C:\\ProyectoML2\\proyecto-ml\\.venv\\Lib\\site-packages\\kedro\\io\\data_catalog.py\" target=\"_blank\"><span style=\"color: #7f7f7f; text-decoration-color: #7f7f7f\">data_catalog.py</span></a><span style=\"color: #7f7f7f; text-decoration-color: #7f7f7f\">:</span><a href=\"file://C:\\ProyectoML2\\proyecto-ml\\.venv\\Lib\\site-packages\\kedro\\io\\data_catalog.py#1046\" target=\"_blank\"><span style=\"color: #7f7f7f; text-decoration-color: #7f7f7f\">1046</span></a>\n",
       "</pre>\n"
      ],
      "text/plain": [
       "\u001b[2;36m                   \u001b[0m\u001b[2;36m \u001b[0m\u001b[34mINFO    \u001b[0m Loading data from \u001b[38;5;208mvisualizaciones_features\u001b[0m \u001b[1m(\u001b[0mPickleDataset\u001b[1m)\u001b[0m\u001b[33m...\u001b[0m     \u001b]8;id=60445;file://C:\\ProyectoML2\\proyecto-ml\\.venv\\Lib\\site-packages\\kedro\\io\\data_catalog.py\u001b\\\u001b[2mdata_catalog.py\u001b[0m\u001b]8;;\u001b\\\u001b[2m:\u001b[0m\u001b]8;id=117603;file://C:\\ProyectoML2\\proyecto-ml\\.venv\\Lib\\site-packages\\kedro\\io\\data_catalog.py#1046\u001b\\\u001b[2m1046\u001b[0m\u001b]8;;\u001b\\\n"
      ]
     },
     "metadata": {},
     "output_type": "display_data"
    },
    {
     "name": "stdout",
     "output_type": "stream",
     "text": [
      "  Visualizaciones de features: 2 archivos\n",
      "\n",
      "Parametros utilizados:\n",
      "  Configuracion de reportes: OK\n",
      "  Configuracion de validacion: OK\n",
      "  Configuracion de performance: OK\n",
      "\n",
      "Exploracion de reportes completada exitosamente!\n",
      "\n",
      "PROXIMOS PASOS:\n",
      "  1. Revisar los archivos de visualizaciones en data/08_reporting/\n",
      "  2. Analizar los reportes generados para insights de calidad\n",
      "  3. Usar los datasets finales para modelado de ML\n",
      "  4. Ajustar parametros en parameters.yml si es necesario\n"
     ]
    }
   ],
   "source": [
    "# Resumen final de reportes\n",
    "print(\"RESUMEN FINAL DE REPORTES Y VISUALIZACIONES\")\n",
    "\n",
    "print(\"\\nReportes generados:\")\n",
    "try:\n",
    "    reporte_calidad = catalog.load('reporte_calidad_datos')\n",
    "    print(f\"  Reporte de calidad: OK\")\n",
    "except:\n",
    "    print(f\"  Reporte de calidad: No disponible\")\n",
    "\n",
    "try:\n",
    "    reporte_features = catalog.load('reporte_features_temporales')\n",
    "    print(f\"  Reporte de features: OK\")\n",
    "except:\n",
    "    print(f\"  Reporte de features: No disponible\")\n",
    "\n",
    "try:\n",
    "    reporte_final = catalog.load('reporte_final_consolidado')\n",
    "    print(f\"  Reporte final: OK\")\n",
    "except:\n",
    "    print(f\"  Reporte final: No disponible\")\n",
    "\n",
    "print(\"\\nVisualizaciones generadas:\")\n",
    "try:\n",
    "    visualizaciones_calidad = catalog.load('visualizaciones_calidad')\n",
    "    print(f\"  Visualizaciones de calidad: {len(visualizaciones_calidad)} archivos\")\n",
    "except:\n",
    "    print(f\"  Visualizaciones de calidad: No disponible\")\n",
    "\n",
    "try:\n",
    "    visualizaciones_features = catalog.load('visualizaciones_features')\n",
    "    print(f\"  Visualizaciones de features: {len(visualizaciones_features)} archivos\")\n",
    "except:\n",
    "    print(f\"  Visualizaciones de features: No disponible\")\n",
    "\n",
    "print(\"\\nParametros utilizados:\")\n",
    "if 'reportes' in params:\n",
    "    print(f\"  Configuracion de reportes: OK\")\n",
    "if 'validacion' in params:\n",
    "    print(f\"  Configuracion de validacion: OK\")\n",
    "if 'performance' in params:\n",
    "    print(f\"  Configuracion de performance: OK\")\n",
    "\n",
    "print(\"\\nExploracion de reportes completada exitosamente!\")\n",
    "print(\"\\nPROXIMOS PASOS:\")\n",
    "print(\"  1. Revisar los archivos de visualizaciones en data/08_reporting/\")\n",
    "print(\"  2. Analizar los reportes generados para insights de calidad\")\n",
    "print(\"  3. Usar los datasets finales para modelado de ML\")\n",
    "print(\"  4. Ajustar parametros en parameters.yml si es necesario\")\n"
   ]
  },
  {
   "cell_type": "code",
   "execution_count": null,
   "metadata": {},
   "outputs": [],
   "source": []
  }
 ],
 "metadata": {
  "kernelspec": {
   "display_name": "Kedro (proyecto_ml)",
   "language": "python",
   "name": "kedro_proyecto_ml"
  },
  "language_info": {
   "codemirror_mode": {
    "name": "ipython",
    "version": 3
   },
   "file_extension": ".py",
   "mimetype": "text/x-python",
   "name": "python",
   "nbconvert_exporter": "python",
   "pygments_lexer": "ipython3",
   "version": "3.12.10"
  }
 },
 "nbformat": 4,
 "nbformat_minor": 4
}

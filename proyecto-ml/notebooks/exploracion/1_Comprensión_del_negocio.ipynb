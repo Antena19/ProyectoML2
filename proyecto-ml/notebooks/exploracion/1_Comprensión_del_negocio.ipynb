{
 "cells": [
  {
   "cell_type": "markdown",
   "id": "9d69f49c-ddcf-4e34-8891-c57a0dfc6249",
   "metadata": {},
   "source": [
    "# Comprensión del Negocio\n",
    "**Proyecto Machine Learning:** Análisis de Nacimientos y Defunciones en Chile\n"
   ]
  },
  {
   "cell_type": "markdown",
   "id": "1942a7e8-4d2c-498d-a0ee-8dcf5e773415",
   "metadata": {},
   "source": [
    "## Objetivos del Proyecto\n",
    "\n",
    "El objetivo general de este proyecto es **analizar y predecir patrones en nacimientos y defunciones en Chile**, usando datos históricos y categorizados por sexo, edad y región.\n",
    "\n",
    "**Objetivos específicos:**\n",
    "1. Analizar la evolución histórica de nacimientos y defunciones por año.\n",
    "2. Explorar diferencias por sexo y rangos de edad.\n",
    "3. Identificar patrones relevantes que puedan ser útiles para predicciones de tendencias futuras.\n",
    "4. Preparar los datos para futuros modelos de Machine Learning (regresión y clasificación).\n"
   ]
  },
  {
   "cell_type": "markdown",
   "id": "962e7b6d-5843-4dcd-ae12-5d7ace214d2c",
   "metadata": {},
   "source": [
    "## Contexto del Negocio\n",
    "\n",
    "Los nacimientos y defunciones son indicadores clave para la planificación de políticas de salud, educación y seguridad social. Entender estos patrones permite:\n",
    "\n",
    "- Proyectar necesidades de infraestructura hospitalaria y servicios de salud.\n",
    "- Analizar tendencias demográficas a nivel regional y nacional.\n",
    "- Estimar riesgos asociados a distintos grupos etarios.\n",
    "- Identificar posibles impactos de eventos excepcionales (p. ej., pandemias, desastres naturales).\n",
    "\n",
    "Los datasets disponibles permiten un análisis histórico completo desde 1974 hasta 2023, con desglose por sexo y edad.\n"
   ]
  },
  {
   "cell_type": "markdown",
   "id": "86f7407b-7ae1-4758-bd5f-0e8e3cce7f8d",
   "metadata": {},
   "source": [
    "## Preguntas de Negocio\n",
    "\n",
    "1. ¿Cómo ha evolucionado el número de nacimientos y defunciones en Chile en los últimos 50 años?\n",
    "2. ¿Existen diferencias significativas por sexo en nacimientos y defunciones?\n",
    "3. ¿Qué rangos de edad presentan mayor mortalidad y cómo ha cambiado con el tiempo?\n",
    "4. ¿Qué regiones presentan mayores tasas de defunción por causas específicas?\n",
    "5. ¿Podemos predecir la cantidad de nacimientos o defunciones futuras basándonos en patrones históricos?\n"
   ]
  },
  {
   "cell_type": "markdown",
   "id": "2e0b11aa-6419-46c9-96e5-35e7055c11e1",
   "metadata": {},
   "source": [
    "## Datos Disponibles\n",
    "\n",
    "Se cuenta con los siguientes datasets:\n",
    "\n",
    "1. **datos_historicos_nacimientos_defunciones**  \n",
    "   - Información anual de nacimientos y defunciones (1974–2023)  \n",
    "   - Útil para análisis de tendencias históricas\n",
    "\n",
    "2. **datos_filtrados_defunciones**  \n",
    "   - Detalle de defunciones por fecha, sexo, región y causa (2014–2023)  \n",
    "   - Permite análisis más profundo por región, edad y causa\n",
    "\n",
    "3. **nacimientos_defunciones_por_sexo**  \n",
    "   - Desagregado por sexo  \n",
    "   - Permite evaluar diferencias entre hombres y mujeres\n",
    "\n",
    "4. **nacimientos_por_edad_madre**  \n",
    "   - Nacimientos desglosados por rango de edad de la madre  \n",
    "   - Útil para detectar tendencias en maternidad según edad\n",
    "\n",
    "5. **defunciones_por_edad_fallecido**  \n",
    "   - Defunciones por rangos de edad  \n",
    "   - Permite identificar grupos de mayor riesgo y patrones de mortalidad\n"
   ]
  },
  {
   "cell_type": "markdown",
   "id": "c80fe978-1396-4265-84ef-16b5eda51fa3",
   "metadata": {},
   "source": [
    "## Alcance del Proyecto\n",
    "\n",
    "- **Cobertura temporal:** 1974–2023 para datos históricos generales; 2014–2023 para datos detallados de defunciones.  \n",
    "- **Cobertura geográfica:** Nacional, con detalle por regiones en datos filtrados.  \n",
    "- **Variables clave:** Año, sexo, edad, región, causa de defunción, número de nacimientos y defunciones.\n",
    "\n",
    "## Métricas de interés\n",
    "- Nacimientos totales por año\n",
    "- Defunciones totales por año\n",
    "- Nacimientos y defunciones por sexo\n",
    "- Defunciones por rango de edad\n",
    "- Tendencias por región\n",
    "- Patrones por causa de defunción\n"
   ]
  },
  {
   "cell_type": "markdown",
   "id": "a7ec3e5d-d850-4ca8-bd63-6cb8bbae0560",
   "metadata": {},
   "source": [
    "## Próximos Pasos\n",
    "\n",
    "1. **Comprensión de los Datos:**  \n",
    "   - Explorar cada dataset, revisar tipos de datos, valores nulos y duplicados  \n",
    "   - Visualizar las primeras tendencias básicas  \n",
    "\n",
    "2. **Preparación para EDA:**  \n",
    "   - Identificar variables relevantes para análisis y futuros modelos de ML  \n",
    "   - Definir columnas target y predictoras\n"
   ]
  },
  {
   "cell_type": "code",
   "execution_count": null,
   "id": "4fbfcabe-b59c-4eee-b36b-e1312252ee10",
   "metadata": {},
   "outputs": [],
   "source": []
  }
 ],
 "metadata": {
  "kernelspec": {
   "display_name": "Python 3 (ipykernel)",
   "language": "python",
   "name": "python3"
  },
  "language_info": {
   "codemirror_mode": {
    "name": "ipython",
    "version": 3
   },
   "file_extension": ".py",
   "mimetype": "text/x-python",
   "name": "python",
   "nbconvert_exporter": "python",
   "pygments_lexer": "ipython3",
   "version": "3.12.10"
  }
 },
 "nbformat": 4,
 "nbformat_minor": 5
}

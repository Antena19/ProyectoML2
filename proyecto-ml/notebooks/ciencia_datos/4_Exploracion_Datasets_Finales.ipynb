{
  "cells": [
    {
      "cell_type": "markdown",
      "metadata": {},
      "source": [
        "# 4. Exploración de Datasets Finales\n",
        "\n",
        "Este notebook explora los datasets finales creados por el pipeline de ciencia de datos, incluyendo:\n",
        "- Datasets normalizados\n",
        "- Features temporales avanzadas\n",
        "- Datasets para modelado\n",
        "- Análisis de calidad de datos\n"
      ]
    },
    {
      "cell_type": "code",
      "execution_count": null,
      "metadata": {},
      "outputs": [],
      "source": [
        "# Inicializar Kedro\n",
        "import sys\n",
        "sys.path.append('src')\n",
        "\n",
        "from kedro.framework.session import KedroSession\n",
        "from kedro.framework.startup import bootstrap_project\n",
        "\n",
        "# Bootstrap del proyecto\n",
        "bootstrap_project('proyecto-ml')\n",
        "\n",
        "# Crear sesión\n",
        "session = KedroSession.create('proyecto-ml')\n",
        "context = session.load_context()\n",
        "catalog = context.catalog\n",
        "params = context.params\n",
        "\n",
        "print(\"✅ Kedro inicializado correctamente\")\n",
        "print(f\"📊 Parámetros cargados: {len(params)} secciones\")\n",
        "print(f\"📁 Catálogo disponible: {len(catalog.list())} datasets\")\n"
      ]
    },
    {
      "cell_type": "code",
      "execution_count": null,
      "metadata": {},
      "outputs": [],
      "source": [
        "# Cargar datasets finales\n",
        "try:\n",
        "    datasets_finales = catalog.load('datasets_finales_modelado')\n",
        "    print(\"✅ Datasets finales cargados exitosamente\")\n",
        "    print(f\"📊 Tipos de datasets: {list(datasets_finales.keys())}\")\n",
        "except Exception as e:\n",
        "    print(f\"❌ Error cargando datasets finales: {e}\")\n",
        "    datasets_finales = None\n"
      ]
    },
    {
      "cell_type": "code",
      "execution_count": null,
      "metadata": {},
      "outputs": [],
      "source": [
        "# Explorar dataset de regresión\n",
        "if datasets_finales and 'dataset_regresion' in datasets_finales:\n",
        "    df_regresion = datasets_finales['dataset_regresion']\n",
        "    print(\"📊 DATASET DE REGRESIÓN\")\n",
        "    print(f\"Forma: {df_regresion.shape}\")\n",
        "    print(f\"Columnas: {list(df_regresion.columns)}\")\n",
        "    print(\"\\n📈 Primeras 5 filas:\")\n",
        "    print(df_regresion.head())\n",
        "    print(\"\\n📊 Estadísticas descriptivas:\")\n",
        "    print(df_regresion.describe())\n"
      ]
    },
    {
      "cell_type": "code",
      "execution_count": null,
      "metadata": {},
      "outputs": [],
      "source": [
        "# Explorar dataset temporal\n",
        "if datasets_finales and 'dataset_temporal' in datasets_finales:\n",
        "    df_temporal = datasets_finales['dataset_temporal']\n",
        "    print(\"📊 DATASET TEMPORAL\")\n",
        "    print(f\"Forma: {df_temporal.shape}\")\n",
        "    print(f\"Columnas: {list(df_temporal.columns)}\")\n",
        "    print(\"\\n📈 Primeras 5 filas:\")\n",
        "    print(df_temporal.head())\n",
        "    print(\"\\n📊 Estadísticas descriptivas:\")\n",
        "    print(df_temporal.describe())\n"
      ]
    },
    {
      "cell_type": "code",
      "execution_count": null,
      "metadata": {},
      "outputs": [],
      "source": [
        "# Explorar dataset resumido\n",
        "if datasets_finales and 'dataset_resumido' in datasets_finales:\n",
        "    df_resumido = datasets_finales['dataset_resumido']\n",
        "    print(\"📊 DATASET RESUMIDO\")\n",
        "    print(f\"Forma: {df_resumido.shape}\")\n",
        "    print(f\"Columnas: {list(df_resumido.columns)}\")\n",
        "    print(\"\\n📈 Primeras 5 filas:\")\n",
        "    print(df_resumido.head())\n",
        "    print(\"\\n📊 Estadísticas descriptivas:\")\n",
        "    print(df_resumido.describe())\n"
      ]
    },
    {
      "cell_type": "code",
      "execution_count": null,
      "metadata": {},
      "outputs": [],
      "source": [
        "# Cargar dataset con features temporales\n",
        "try:\n",
        "    df_features = catalog.load('dataset_con_features_temporales')\n",
        "    print(\"✅ Dataset con features temporales cargado\")\n",
        "    print(f\"Forma: {df_features.shape}\")\n",
        "    print(f\"Columnas: {list(df_features.columns)}\")\n",
        "except Exception as e:\n",
        "    print(f\"❌ Error cargando features temporales: {e}\")\n",
        "    df_features = None\n"
      ]
    },
    {
      "cell_type": "code",
      "execution_count": null,
      "metadata": {},
      "outputs": [],
      "source": [
        "# Análisis de features cíclicos\n",
        "if df_features is not None:\n",
        "    import matplotlib.pyplot as plt\n",
        "    import seaborn as sns\n",
        "    \n",
        "    # Configurar estilo\n",
        "    plt.style.use('default')\n",
        "    sns.set_palette('husl')\n",
        "    \n",
        "    # Features cíclicos disponibles\n",
        "    features_ciclicos = [col for col in df_features.columns if '_sin' in col or '_cos' in col]\n",
        "    print(f\"🔄 Features cíclicos encontrados: {len(features_ciclicos)}\")\n",
        "    print(f\"Lista: {features_ciclicos}\")\n",
        "    \n",
        "    # Visualizar distribución de features cíclicos\n",
        "    if features_ciclicos:\n",
        "        fig, axes = plt.subplots(2, 4, figsize=(16, 8))\n",
        "        axes = axes.ravel()\n",
        "        \n",
        "        for i, feature in enumerate(features_ciclicos[:8]):\n",
        "            if i < len(axes):\n",
        "                axes[i].hist(df_features[feature].dropna(), bins=50, alpha=0.7)\n",
        "                axes[i].set_title(f'Distribución de {feature}')\n",
        "                axes[i].set_xlabel('Valor')\n",
        "                axes[i].set_ylabel('Frecuencia')\n",
        "        \n",
        "        plt.tight_layout()\n",
        "        plt.show()\n"
      ]
    },
    {
      "cell_type": "code",
      "execution_count": null,
      "metadata": {},
      "outputs": [],
      "source": [
        "# Análisis de features especiales\n",
        "if df_features is not None:\n",
        "    # Features especiales disponibles\n",
        "    features_especiales = [col for col in df_features.columns if col.startswith('es_')]\n",
        "    print(f\"⭐ Features especiales encontrados: {len(features_especiales)}\")\n",
        "    print(f\"Lista: {features_especiales}\")\n",
        "    \n",
        "    # Visualizar distribución de features especiales\n",
        "    if features_especiales:\n",
        "        fig, axes = plt.subplots(1, len(features_especiales), figsize=(4*len(features_especiales), 4))\n",
        "        if len(features_especiales) == 1:\n",
        "            axes = [axes]\n",
        "        \n",
        "        for i, feature in enumerate(features_especiales):\n",
        "            value_counts = df_features[feature].value_counts()\n",
        "            axes[i].pie(value_counts.values, labels=value_counts.index, autopct='%1.1f%%')\n",
        "            axes[i].set_title(f'Distribución de {feature}')\n",
        "        \n",
        "        plt.tight_layout()\n",
        "        plt.show()\n"
      ]
    },
    {
      "cell_type": "code",
      "execution_count": null,
      "metadata": {},
      "outputs": [],
      "source": [
        "# Cargar métricas de calidad\n",
        "try:\n",
        "    metricas_calidad = catalog.load('metricas_calidad_datos')\n",
        "    print(\"✅ Métricas de calidad cargadas\")\n",
        "    print(f\"📊 Métricas disponibles: {list(metricas_calidad.keys())}\")\n",
        "    \n",
        "    # Mostrar resumen de calidad\n",
        "    for dataset, metricas in metricas_calidad.items():\n",
        "        print(f\"\\n📈 {dataset.upper()}:\")\n",
        "        for metrica, valor in metricas.items():\n",
        "            print(f\"  {metrica}: {valor}\")\n",
        "except Exception as e:\n",
        "    print(f\"❌ Error cargando métricas de calidad: {e}\")\n",
        "    metricas_calidad = None\n"
      ]
    },
    {
      "cell_type": "code",
      "execution_count": null,
      "metadata": {},
      "outputs": [],
      "source": [
        "# Análisis de parámetros utilizados\n",
        "print(\"⚙️ PARÁMETROS UTILIZADOS EN EL PIPELINE\")\n",
        "print(\"\\n📊 Parámetros de features temporales:\")\n",
        "if 'features_temporales' in params:\n",
        "    for key, value in params['features_temporales'].items():\n",
        "        print(f\"  {key}: {value}\")\n",
        "\n",
        "print(\"\\n📊 Parámetros de normalización:\")\n",
        "if 'normalizacion' in params:\n",
        "    for key, value in params['normalizacion'].items():\n",
        "        print(f\"  {key}: {value}\")\n",
        "\n",
        "print(\"\\n📊 Parámetros de datasets finales:\")\n",
        "if 'datasets_finales' in params:\n",
        "    for key, value in params['datasets_finales'].items():\n",
        "        print(f\"  {key}: {value}\")\n"
      ]
    },
    {
      "cell_type": "code",
      "execution_count": null,
      "metadata": {},
      "outputs": [],
      "source": [
        "# Resumen final\n",
        "print(\"🎯 RESUMEN FINAL DE EXPLORACIÓN\")\n",
        "print(\"\\n✅ Datasets finales creados:\")\n",
        "if datasets_finales:\n",
        "    for nombre, df in datasets_finales.items():\n",
        "        print(f\"  {nombre}: {df.shape}\")\n",
        "\n",
        "print(\"\\n✅ Features temporales implementadas:\")\n",
        "if df_features is not None:\n",
        "    features_ciclicos = [col for col in df_features.columns if '_sin' in col or '_cos' in col]\n",
        "    features_especiales = [col for col in df_features.columns if col.startswith('es_')]\n",
        "    print(f\"  Cíclicos: {len(features_ciclicos)}\")\n",
        "    print(f\"  Especiales: {len(features_especiales)}\")\n",
        "\n",
        "print(\"\\n✅ Métodos de normalización aplicados:\")\n",
        "if 'normalizacion' in params:\n",
        "    metodos = params['normalizacion'].get('metodos', [])\n",
        "    print(f\"  {', '.join(metodos)}\")\n",
        "\n",
        "print(\"\\n🎉 Exploración de datasets finales completada exitosamente!\")\n"
      ]
    }
  ],
  "metadata": {
    "language_info": {
      "name": "python"
    }
  },
  "nbformat": 4,
  "nbformat_minor": 2
}

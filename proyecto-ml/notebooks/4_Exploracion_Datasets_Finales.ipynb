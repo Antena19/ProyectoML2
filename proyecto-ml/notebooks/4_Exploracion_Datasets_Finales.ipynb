{
 "cells": [
  {
   "cell_type": "markdown",
   "metadata": {},
   "source": [
    "# Exploración de Datasets Finales para Modelado\n",
    "\n",
    "Este notebook explora los datasets creados por el pipeline de ciencia de datos.\n",
    "\n",
    "## Prerequisitos:\n",
    "- Ejecutar primero: `kedro run --pipeline=ciencia_datos`\n",
    "- Asegurarse de que los datasets estén creados en `data/03_primary/`\n"
   ]
  },
  {
   "cell_type": "markdown",
   "metadata": {},
   "source": [
    "## 1. Configuración Inicial\n"
   ]
  },
  {
   "cell_type": "code",
   "execution_count": null,
   "metadata": {},
   "outputs": [],
   "source": [
    "# Importar librerías necesarias\n",
    "import pandas as pd\n",
    "import numpy as np\n",
    "import matplotlib.pyplot as plt\n",
    "import seaborn as sns\n",
    "import os\n",
    "import warnings\n",
    "warnings.filterwarnings('ignore')\n",
    "\n",
    "# Configurar visualizaciones\n",
    "plt.style.use('default')\n",
    "sns.set_palette(\"husl\")\n",
    "plt.rcParams['figure.figsize'] = (12, 8)\n",
    "plt.rcParams['font.size'] = 10\n",
    "\n",
    "print(\"Librerías importadas correctamente\")\n",
    "\n",
    "# Verificar que Kedro está disponible (cuando usas kedro jupyter notebook)\n",
    "print(\"Kedro ya está inicializado por kedro jupyter notebook\")\n",
    "print(f\"Directorio de trabajo: {os.getcwd()}\")\n",
    "print(f\"Catalog disponible: {catalog is not None}\")\n",
    "print(f\"Session disponible: {session is not None}\")\n"
   ]
  },
  {
   "cell_type": "markdown",
   "metadata": {},
   "source": [
    "## 2. Dataset con Features Temporales\n"
   ]
  },
  {
   "cell_type": "code",
   "execution_count": null,
   "metadata": {},
   "outputs": [],
   "source": [
    "# Cargar dataset con features temporales\n",
    "try:\n",
    "    df_features = catalog.load('dataset_con_features_temporales')\n",
    "    \n",
    "    print(f\"Dataset Features Temporales: {df_features.shape}\")\n",
    "    print(f\"\\nColumnas disponibles ({len(df_features.columns)}):\")\n",
    "    for i, col in enumerate(df_features.columns, 1):\n",
    "        print(f\"{i:2d}. {col}\")\n",
    "    \n",
    "    print(f\"\\nPrimeras 5 filas:\")\n",
    "    display(df_features.head())\n",
    "    \n",
    "    # Verificar tipos de datos\n",
    "    print(f\"\\nTipos de datos:\")\n",
    "    print(df_features.dtypes.value_counts())\n",
    "    \n",
    "except Exception as e:\n",
    "    print(f\"Error cargando dataset: {e}\")\n",
    "    print(\"Asegúrate de haber ejecutado: kedro run --pipeline=ciencia_datos\")\n"
   ]
  },
  {
   "cell_type": "markdown",
   "metadata": {},
   "source": [
    "## 3. Visualización de Features Cíclicos\n"
   ]
  },
  {
   "cell_type": "code",
   "execution_count": null,
   "metadata": {},
   "outputs": [],
   "source": [
    "# Visualizar features cíclicos\n",
    "if 'df_features' in locals():\n",
    "    try:\n",
    "        fig, axes = plt.subplots(2, 2, figsize=(15, 10))\n",
    "        fig.suptitle('Features Cíclicos Creados', fontsize=16)\n",
    "        \n",
    "        # Verificar qué columnas están disponibles\n",
    "        ciclicas_cols = {\n",
    "            'mes': ['mes_sin', 'mes_cos'],\n",
    "            'dia_año': ['dia_año_sin', 'dia_año_cos'],\n",
    "            'trimestre': ['trimestre_sin', 'trimestre_cos'],\n",
    "            'dia_semana': ['dia_semana_sin', 'dia_semana_cos']\n",
    "        }\n",
    "        \n",
    "        positions = [(0,0), (0,1), (1,0), (1,1)]\n",
    "        titles = ['Mes Cíclico', 'Día del Año Cíclico', 'Trimestre Cíclico', 'Día de Semana Cíclico']\n",
    "        \n",
    "        for i, (key, cols) in enumerate(ciclicas_cols.items()):\n",
    "            if cols[0] in df_features.columns and cols[1] in df_features.columns:\n",
    "                row, col = positions[i]\n",
    "                axes[row, col].scatter(df_features[cols[0]], df_features[cols[1]], alpha=0.1)\n",
    "                axes[row, col].set_title(titles[i])\n",
    "                axes[row, col].set_xlabel(cols[0])\n",
    "                axes[row, col].set_ylabel(cols[1])\n",
    "            else:\n",
    "                row, col = positions[i]\n",
    "                axes[row, col].text(0.5, 0.5, f'Columna {cols[0]} no encontrada', \n",
    "                                   ha='center', va='center', transform=axes[row, col].transAxes)\n",
    "                axes[row, col].set_title(titles[i])\n",
    "        \n",
    "        plt.tight_layout()\n",
    "        plt.show()\n",
    "        \n",
    "    except Exception as e:\n",
    "        print(f\"Error en visualización: {e}\")\n",
    "else:\n",
    "    print(\"Primero ejecuta la celda anterior para cargar df_features\")\n"
   ]
  },
  {
   "cell_type": "markdown",
   "metadata": {},
   "source": [
    "## 4. Datasets Finales para Modelado\n"
   ]
  },
  {
   "cell_type": "code",
   "execution_count": null,
   "metadata": {},
   "outputs": [],
   "source": [
    "# Cargar datasets finales\n",
    "try:\n",
    "    datasets_finales = catalog.load('datasets_finales_modelado')\n",
    "    \n",
    "    print(\"Datasets Finales para Modelado:\")\n",
    "    for nombre, df in datasets_finales.items():\n",
    "        if isinstance(df, pd.DataFrame):\n",
    "            print(f\"  {nombre}: {df.shape}\")\n",
    "    \n",
    "    # Explorar dataset de regresión\n",
    "    if 'dataset_regresion' in datasets_finales:\n",
    "        df_reg = datasets_finales['dataset_regresion']\n",
    "        print(f\"\\nDataset Regresión - Primeras 5 filas:\")\n",
    "        display(df_reg.head())\n",
    "        \n",
    "        print(f\"\\nEstadísticas Descriptivas:\")\n",
    "        display(df_reg.describe())\n",
    "        \n",
    "except Exception as e:\n",
    "    print(f\"Error cargando datasets finales: {e}\")\n",
    "    print(\"Asegúrate de haber ejecutado el pipeline de ciencia de datos\")\n"
   ]
  },
  {
   "cell_type": "markdown",
   "metadata": {},
   "source": [
    "## 5. Resumen de Datasets Disponibles\n"
   ]
  },
  {
   "cell_type": "code",
   "execution_count": null,
   "metadata": {},
   "outputs": [],
   "source": [
    "print(\"RESUMEN DE DATASETS PARA MODELADO:\")\n",
    "print(\"=\" * 50)\n",
    "\n",
    "print(\"\\n1. DATASET REGRESIÓN:\")\n",
    "print(\"   • Propósito: Modelos de regresión y predicción\")\n",
    "print(\"   • Features: Variables temporales cíclicas\")\n",
    "print(\"   • Algoritmos: Regresión lineal, Random Forest, XGBoost\")\n",
    "\n",
    "print(\"\\n2. DATASET TEMPORAL:\")\n",
    "print(\"   • Propósito: Análisis de series de tiempo\")\n",
    "print(\"   • Features: Índice temporal, fechas ordenadas\")\n",
    "print(\"   • Algoritmos: ARIMA, Prophet, LSTM\")\n",
    "\n",
    "print(\"\\n3. DATASET INDEXADO:\")\n",
    "print(\"   • Propósito: Identificación única y análisis granular\")\n",
    "print(\"   • Features: ID único por año/mes/región/sexo\")\n",
    "print(\"   • Algoritmos: Clustering, análisis de cohortes\")\n",
    "\n",
    "print(\"\\n4. DATASET RESUMIDO:\")\n",
    "print(\"   • Propósito: Análisis agregado y dashboards\")\n",
    "print(\"   • Features: Promedios por año/mes\")\n",
    "print(\"   • Algoritmos: Análisis estadístico, visualizaciones\")\n",
    "\n",
    "print(\"\\n5. DATASET COMPLETO:\")\n",
    "print(\"   • Propósito: Modelos avanzados de ML\")\n",
    "print(\"   • Features: Todas las variables normalizadas\")\n",
    "print(\"   • Algoritmos: Deep Learning, Ensemble methods\")\n",
    "\n",
    "print(\"\\nTodos los datasets están listos para modelado!\")\n"
   ]
  }
 ],
 "metadata": {
  "kernelspec": {
   "display_name": "Python 3",
   "language": "python",
   "name": "python3"
  },
  "language_info": {
   "codemirror_mode": {
    "name": "ipython",
    "version": 3
   },
   "file_extension": ".py",
   "mimetype": "text/x-python",
   "name": "python",
   "nbconvert_exporter": "python",
   "pygments_lexer": "ipython3",
   "version": "3.8.0"
  }
 },
 "nbformat": 4,
 "nbformat_minor": 4
}
